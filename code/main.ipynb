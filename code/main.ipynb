{
 "cells": [
  {
   "cell_type": "code",
   "execution_count": 1,
   "metadata": {},
   "outputs": [],
   "source": [
    "import pandas as pd\n",
    "import numpy as np"
   ]
  },
  {
   "cell_type": "code",
   "execution_count": 38,
   "metadata": {},
   "outputs": [],
   "source": [
    "paths = [\"C:/Users/JMoncada43/OneDrive - Cementos Argos S.A/Documentos/Python Scripts/Proyecto Retiros/data/1_Eventos.csv\",\n",
    "         \"C:/Users/JMoncada43/OneDrive - Cementos Argos S.A/Documentos/Python Scripts/Proyecto Retiros/data/2_MDB.xlsx\",\n",
    "         \"C:/Users/JMoncada43/OneDrive - Cementos Argos S.A/Documentos/Python Scripts/Proyecto Retiros/data/3_Dependientes.xlsx\",\n",
    "         \"C:/Users/JMoncada43/OneDrive - Cementos Argos S.A/Documentos/Python Scripts/Proyecto Retiros/data/4_edformal.csv\",\n",
    "         \"C:/Users/JMoncada43/OneDrive - Cementos Argos S.A/Documentos/Python Scripts/Proyecto Retiros/data/5_Experiencia.csv\",\n",
    "         \"C:/Users/JMoncada43/OneDrive - Cementos Argos S.A/Documentos/Python Scripts/Proyecto Retiros/data/6_idiomas.csv\",\n",
    "         \"C:/Users/JMoncada43/OneDrive - Cementos Argos S.A/Documentos/Python Scripts/Proyecto Retiros/data/7_Intereses_carrera.csv\",\n",
    "         \"C:/Users/JMoncada43/OneDrive - Cementos Argos S.A/Documentos/Python Scripts/Proyecto Retiros/data/8_software_skills.csv\"\n",
    "         ]"
   ]
  },
  {
   "cell_type": "code",
   "execution_count": 59,
   "metadata": {},
   "outputs": [],
   "source": [
    "Eventos = pd.read_csv(paths[0], skiprows=1)\n",
    "MDB = pd.read_excel(paths[1], skiprows=2)\n",
    "Depends = pd.read_excel(paths[2], skiprows=2)\n",
    "Education = pd.read_csv(paths[3], skiprows=1)\n",
    "Exp = pd.read_csv(paths[4], skiprows=1)\n",
    "Languages = pd.read_csv(paths[5], skiprows=1)\n",
    "Interest = pd.read_csv(paths[6], skiprows=1)\n",
    "Software = pd.read_csv(paths[7], skiprows=1)"
   ]
  },
  {
   "cell_type": "code",
   "execution_count": 41,
   "metadata": {},
   "outputs": [],
   "source": [
    "def filter_events(df):\n",
    "    # Filtrar registros según las condiciones dadas\n",
    "    filtered_df = df.loc[\n",
    "        (df['event'] == 'TERMINATION') &\n",
    "        (df['eventReason'] == 'Retiro Voluntario')\n",
    "    ]\n",
    "\n",
    "    # Seleccionar columnas de interés\n",
    "    columns_to_keep = ['eventCode', 'event', 'eventReasonCode', 'eventReason',\n",
    "                       'effectiveDate', 'personId', 'termination detail']\n",
    "    filtered_df = filtered_df[columns_to_keep]\n",
    "\n",
    "    # Eliminar registros duplicados\n",
    "    filtered_df = filtered_df.drop_duplicates()\n",
    "\n",
    "    return filtered_df"
   ]
  },
  {
   "cell_type": "code",
   "execution_count": 54,
   "metadata": {},
   "outputs": [],
   "source": [
    "def filter_depends(df):\n",
    "    columns_to_keep = ['PERSON ID', 'DATE OF BIRTH','RELATIONSHIP']\n",
    "    dfDep = df[columns_to_keep]\n",
    "\n",
    "    # Eliminar los NaN\n",
    "    dfDep.dropna(inplace = True)\n",
    "\n",
    "    # Obtener conteo de dependientes de cada PersonId\n",
    "    dfDep = dfDep.groupby('PERSON ID')['RELATIONSHIP'].count().reset_index()\n",
    "    dfDep.rename(columns={'RELATIONSHIP': 'DEPENDIENTES'}, inplace=True)\n",
    "\n",
    "    return dfDep"
   ]
  },
  {
   "cell_type": "code",
   "execution_count": 56,
   "metadata": {},
   "outputs": [],
   "source": [
    "def filter_mdb(df):\n",
    "    # Filtrar registros según las condiciones dadas\n",
    "    dfMDB = df.loc[\n",
    "        ((df['EMPLOYEE STATUS'] == 'TERMINATED') | (df['EMPLOYEE STATUS'] == 'ACTIVE')) &\n",
    "        (df['COUNTRY'] == 'COL')\n",
    "    ]\n",
    "\n",
    "    # Eliminar registros duplicados\n",
    "    dfMDB = dfMDB.drop_duplicates()\n",
    "\n",
    "    return dfMDB"
   ]
  },
  {
   "cell_type": "code",
   "execution_count": 33,
   "metadata": {},
   "outputs": [],
   "source": [
    "def filter_exp(df):\n",
    "\n",
    "    # Quitar fechas erradas, volverlas NaN (ej: año 1810)\n",
    "    df['Start Date'] = pd.to_datetime(df['Start Date'], errors='coerce')\n",
    "    df['End Date'] = pd.to_datetime(df['End Date'], errors='coerce')\n",
    "\n",
    "    # Eliminar los NaN\n",
    "    df.dropna(subset=['Start Date', 'End Date'], inplace=True)\n",
    "\n",
    "    # Convertir en formato fecha\n",
    "    df['Start Date']  = pd.to_datetime(df['Start Date'])\n",
    "    df['End Date']  = pd.to_datetime(df['End Date'])\n",
    "\n",
    "    # Obtener años de permanencia en cada experiencia\n",
    "    df['Years_Exp'] = (df['End Date'] - df['Start Date']).dt.days / 365\n",
    "\n",
    "    # Obtener años totales de experiencia de cada colaborador\n",
    "    dfExp = df.groupby('Person ID External')['Years_Exp'].sum().reset_index()\n",
    "\n",
    "    return dfExp"
   ]
  },
  {
   "cell_type": "code",
   "execution_count": 86,
   "metadata": {},
   "outputs": [],
   "source": [
    "def filter_education (df):\n",
    "\n",
    "    # Seleccionar las variables de interes\n",
    "    dfEducation = df[['Person ID External', 'Academic degree']]\n",
    "\n",
    "    # Dicotomizar variables\n",
    "    dfEducation = pd.get_dummies(dfEducation, columns=['Academic degree'], drop_first=True, prefix=['Academic degree'])\n",
    "\n",
    "    # Renombrar columnas\n",
    "    dfEducation.rename(columns={\"Person ID External\": 'PersonID', \n",
    "                          \"Academic degree_BACHELOR'S\": \"Bachelor\",\n",
    "                          \"Academic degree_DOCTORATE'S\": \"Doctorate\", \n",
    "                          \"Academic degree_ELEMENTARY SCHOOL\": \"Elementary_school\",\n",
    "                          \"Academic degree_HIGH SCHOOL\": \"High_school\", \n",
    "                          \"Academic degree_MASTER'S\": \"Master\",\n",
    "                          \"Academic degree_SPECIALIZATION (COL)\": \"Specialization\",\n",
    "                          \"Academic degree_TECHNICAL (COL)\": \"Technical\"}, inplace=True)\n",
    "    \n",
    "\n",
    "    # Quitar duplicados por medio de agrupación\n",
    "    dfEducation = dfEducation.groupby(\"PersonID\").any().reset_index()\n",
    "\n",
    "    return dfEducation"
   ]
  },
  {
   "cell_type": "code",
   "execution_count": 126,
   "metadata": {},
   "outputs": [],
   "source": [
    "def filter_lang (df):\n",
    "\n",
    "    # Seleccionar variables de interés\n",
    "    df_Lang = df[['Person ID External', 'Language/Dialect' ]]\n",
    "\n",
    "    # Dicotomizar variables\n",
    "    df_Lang = pd.get_dummies(df_Lang, columns=['Language/Dialect'], drop_first=True, prefix=['Language/Dialect'])\n",
    "\n",
    "    # Conteo de todos los lenguajes por colaborador\n",
    "    df_Lang['Languages'] = df_Lang.iloc[:, 1:].sum(axis=1)\n",
    "    df_Lang = df_Lang[['Person ID External', 'Languages']]\n",
    "    return df_Lang"
   ]
  },
  {
   "cell_type": "code",
   "execution_count": 147,
   "metadata": {},
   "outputs": [],
   "source": [
    "def filter_interest (df):\n",
    "\n",
    "    # Seleccionar variables de interés\n",
    "    dfInter = df[['Person ID External', 'Department/Team interested in']]\n",
    "\n",
    "    # Eliminar registros que no tienen un area de interes\n",
    "    dfInter = dfInter.dropna(subset=['Department/Team interested in'])\n",
    "\n",
    "    # Agrupar todas las areas de interes en un solo registro\n",
    "    dfInter = dfInter.groupby(\"Person ID External\")[\"Department/Team interested in\"].apply(lambda x: \" / \".join(x)).reset_index()\n",
    "    return dfInter"
   ]
  },
  {
   "cell_type": "code",
   "execution_count": 152,
   "metadata": {},
   "outputs": [],
   "source": [
    "def filter_software (df):\n",
    "\n",
    "    # Seleccionar variables de interés\n",
    "    dfSoft = df[['Person ID External', 'Application']]\n",
    "\n",
    "    # Eliminar registros que no tienen una skill\n",
    "    dfSoft = dfSoft.dropna(subset=['Application'])\n",
    "\n",
    "    # Agrupar todos los skills en un solo registro\n",
    "    dfSoft = dfSoft.groupby(\"Person ID External\")[\"Application\"].apply(lambda x: \" / \".join(x)).reset_index()\n",
    "    return dfSoft"
   ]
  }
 ],
 "metadata": {
  "kernelspec": {
   "display_name": ".venv",
   "language": "python",
   "name": "python3"
  },
  "language_info": {
   "codemirror_mode": {
    "name": "ipython",
    "version": 3
   },
   "file_extension": ".py",
   "mimetype": "text/x-python",
   "name": "python",
   "nbconvert_exporter": "python",
   "pygments_lexer": "ipython3",
   "version": "3.11.0"
  },
  "orig_nbformat": 4
 },
 "nbformat": 4,
 "nbformat_minor": 2
}
